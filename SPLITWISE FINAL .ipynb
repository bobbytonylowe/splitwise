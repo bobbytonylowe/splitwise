{
 "cells": [
  {
   "cell_type": "code",
   "execution_count": 17,
   "metadata": {},
   "outputs": [],
   "source": [
    "#### now all in one code \n",
    "\n",
    "def splitwise(my_dict):\n",
    "    \n",
    "    my_dict = my_dict\n",
    "                                            ## all functions stated here ###\n",
    "    # key maximum\n",
    "    def max_dict_key(my_dict):\n",
    "        return max(my_dict, key=my_dict.get)\n",
    "\n",
    "    #key minimum\n",
    "    def min_dict_key(my_dict):\n",
    "        return min(my_dict, key=my_dict.get)\n",
    "\n",
    "    #value max\n",
    "    def max_dict_value(my_dict):\n",
    "        maximum = max(my_dict, key=my_dict.get)\n",
    "        return my_dict[maximum]\n",
    "\n",
    "    #value min\n",
    "    def min_dict_value(my_dict):\n",
    "        maximum = min(my_dict, key=my_dict.get) \n",
    "        return my_dict[maximum]\n",
    "\n",
    "    def closer_to_zero(my_dict):\n",
    "    \n",
    "        owes_owed = min_dict_value(my_dict) + max_dict_value(my_dict)\n",
    "        ans = max_dict_value(my_dict) + min_dict_value(my_dict)\n",
    "        \n",
    "        #function to replace values in dict\n",
    "        def replace_value_with_definition(key_to_find, definition):\n",
    "            for key in my_dict.keys():\n",
    "                if key == key_to_find:\n",
    "                    my_dict[key] = definition\n",
    " \n",
    "        if ans >0:\n",
    "            print(min_dict_key(my_dict) , \"pays £\" , round(abs(min_dict_value(my_dict)), 2), \"to\" ,  max_dict_key(my_dict))\n",
    "            replace_value_with_definition(min_dict_key(my_dict), 0)\n",
    "            replace_value_with_definition(max_dict_key(my_dict), owes_owed)\n",
    " \n",
    "        else:\n",
    "            print(min_dict_key(my_dict) , \"pays £\" , round(max_dict_value(my_dict),2), \"to\" ,  max_dict_key(my_dict))\n",
    "            replace_value_with_definition(min_dict_key(my_dict), owes_owed)\n",
    "            replace_value_with_definition(max_dict_key(my_dict), 0)\n",
    "\n",
    "                \n",
    "                                        ### functions finished ###\n",
    "                \n",
    "    \n",
    "    \n",
    "    #find out average amount\n",
    "    average_amount_spent = (sum(my_dict.values())) / len(my_dict)\n",
    "\n",
    "    #now take off average_amount_spent from each amount spent in the dict\n",
    "    for key in my_dict:    \n",
    "        my_dict[key] =  my_dict[key] - average_amount_spent\n",
    "\n",
    "    ## find out difference of payment from top debter and creditor\n",
    "    owes_owed = min_dict_value(my_dict) + max_dict_value(my_dict)\n",
    "            \n",
    "    # create a while loop which will equal out creditor/debtor\n",
    "    while max_dict_value(my_dict) != 0:\n",
    "        print(closer_to_zero(my_dict))"
   ]
  },
  {
   "cell_type": "code",
   "execution_count": 18,
   "metadata": {},
   "outputs": [
    {
     "name": "stdout",
     "output_type": "stream",
     "text": [
      "Baz pays £ 63.7 to Caitlin\n",
      "None\n",
      "Hannah pays £ 63.7 to Caitlin\n",
      "None\n",
      "scar pays £ 63.7 to Caitlin\n",
      "None\n",
      "Sammy pays £ 63.3 to Matt\n",
      "None\n",
      "Eddie pays £ 51.3 to viv\n",
      "None\n",
      "Bobby pays £ 23.7 to Charlie\n",
      "None\n",
      "Eddie pays £ 12.2 to Caitlin\n",
      "None\n",
      "Sammy pays £ 0.4 to Charlie\n",
      "None\n",
      "Eddie pays £ 0.2 to Charlie\n",
      "None\n"
     ]
    }
   ],
   "source": [
    "## enter name and correspoding amount spent in dictionary set up. \n",
    "\n",
    "## in the format- \n",
    "## splitwise({'name' : amount, 'name_2' : amount})\n",
    "\n",
    "## example bobby : 40\n",
    "\n",
    "splitwise({\"Baz\":0,\"Matt\":127,\"Hannah\":0,\"scar\":0,\"Sammy\":0,\"Bobby\":40,\"Eddie\":0,\"Caitlin\":267, \"viv\" :115, \"Charlie\":88})"
   ]
  },
  {
   "cell_type": "code",
   "execution_count": null,
   "metadata": {},
   "outputs": [],
   "source": []
  }
 ],
 "metadata": {
  "kernelspec": {
   "display_name": "Python 3",
   "language": "python",
   "name": "python3"
  },
  "language_info": {
   "codemirror_mode": {
    "name": "ipython",
    "version": 3
   },
   "file_extension": ".py",
   "mimetype": "text/x-python",
   "name": "python",
   "nbconvert_exporter": "python",
   "pygments_lexer": "ipython3",
   "version": "3.6.4"
  }
 },
 "nbformat": 4,
 "nbformat_minor": 2
}
